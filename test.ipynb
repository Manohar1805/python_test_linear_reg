{
 "cells": [
  {
   "cell_type": "code",
   "execution_count": 1,
   "metadata": {},
   "outputs": [],
   "source": [
    "import numpy as np\n",
    "import pandas as pd"
   ]
  },
  {
   "cell_type": "code",
   "execution_count": 2,
   "metadata": {},
   "outputs": [],
   "source": [
    "y = [3,4,2,4,5]\n",
    "x = [1,2,3,4,5]"
   ]
  },
  {
   "cell_type": "code",
   "execution_count": 3,
   "metadata": {},
   "outputs": [
    {
     "name": "stdout",
     "output_type": "stream",
     "text": [
      "x >>>>>> [1, 2, 3, 4, 5]\n",
      "y >>>>>> [3, 4, 2, 4, 5]\n"
     ]
    }
   ],
   "source": [
    "print(\"x >>>>>>\", x)\n",
    "print(\"y >>>>>>\", y)"
   ]
  },
  {
   "cell_type": "code",
   "execution_count": 4,
   "metadata": {},
   "outputs": [],
   "source": [
    "def initialize_parameters():\n",
    "    m = np.random.rand(1)  \n",
    "    c = np.random.rand(1)  \n",
    "    return m, c\n",
    "\n",
    "def compute_predictions(x, m, c):\n",
    "    y_pred = [m * xi + c for xi in x]\n",
    "    return y_pred\n",
    "\n",
    "def compute_mean_squared_error(y, y_pred):\n",
    "    n = len(y)\n",
    "    mse = sum((y[i] - y_pred[i]) ** 2 for i in range(n)) / n\n",
    "    return mse\n",
    "\n",
    "def compute_gradients(x, y, y_pred):\n",
    "    n = len(x)\n",
    "    gradient_m = (-2/n) * sum(x[i] * (y[i] - y_pred[i]) for i in range(n))\n",
    "    gradient_c = (-2/n) * sum(y[i] - y_pred[i] for i in range(n))\n",
    "    return gradient_m, gradient_c\n",
    "\n",
    "def update_parameters(m, c, learning_rate, gradient_m, gradient_c):\n",
    "    m -= learning_rate * gradient_m\n",
    "    c -= learning_rate * gradient_c\n",
    "    return m, c\n",
    "\n",
    "def train_linear_regression(x, y, learning_rate, epochs):\n",
    "\n",
    "    m, c = initialize_parameters()\n",
    "\n",
    "    for epoch in range(epochs):\n",
    "        \n",
    "        y_pred = compute_predictions(x, m, c)\n",
    "\n",
    "        mse = compute_mean_squared_error(y, y_pred)\n",
    "        print(\"Epoch {}: Mean Squared Error = {}\".format(epoch, mse))\n",
    "\n",
    "        gradient_m, gradient_c = compute_gradients(x, y, y_pred)\n",
    "\n",
    "        m, c = update_parameters(m, c, learning_rate, gradient_m, gradient_c)\n",
    "\n",
    "        print(\"=\" * 40)\n",
    "        \n",
    "    print(\"Trained parameters:\")\n",
    "    print(\"Slope\", m)\n",
    "    print(\"Y-intercept\", c)\n",
    "\n",
    "\n"
   ]
  },
  {
   "cell_type": "code",
   "execution_count": 5,
   "metadata": {},
   "outputs": [
    {
     "name": "stdout",
     "output_type": "stream",
     "text": [
      "Epoch 0: Mean Squared Error = [4.98414538]\n",
      "========================================\n",
      "Epoch 1: Mean Squared Error = [3.33067355]\n",
      "========================================\n",
      "Epoch 2: Mean Squared Error = [2.36626321]\n",
      "========================================\n",
      "Epoch 3: Mean Squared Error = [1.80340953]\n",
      "========================================\n",
      "Epoch 4: Mean Squared Error = [1.47456887]\n",
      "========================================\n",
      "Epoch 5: Mean Squared Error = [1.28210508]\n",
      "========================================\n",
      "Epoch 6: Mean Squared Error = [1.16912059]\n",
      "========================================\n",
      "Epoch 7: Mean Squared Error = [1.10245828]\n",
      "========================================\n",
      "Epoch 8: Mean Squared Error = [1.06279577]\n",
      "========================================\n",
      "Epoch 9: Mean Squared Error = [1.03887292]\n",
      "========================================\n",
      "Trained parameters:\n",
      "Slope [0.70989245]\n",
      "Y-intercept [1.13556726]\n"
     ]
    }
   ],
   "source": [
    "\n",
    "learning_rate = 0.01\n",
    "epochs = 10\n",
    "\n",
    "train_linear_regression(x, y, learning_rate, epochs)"
   ]
  },
  {
   "cell_type": "code",
   "execution_count": null,
   "metadata": {},
   "outputs": [],
   "source": []
  }
 ],
 "metadata": {
  "kernelspec": {
   "display_name": "Python 3",
   "language": "python",
   "name": "python3"
  },
  "language_info": {
   "codemirror_mode": {
    "name": "ipython",
    "version": 3
   },
   "file_extension": ".py",
   "mimetype": "text/x-python",
   "name": "python",
   "nbconvert_exporter": "python",
   "pygments_lexer": "ipython3",
   "version": "3.9.13"
  }
 },
 "nbformat": 4,
 "nbformat_minor": 2
}
